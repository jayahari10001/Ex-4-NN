{
  "nbformat": 4,
  "nbformat_minor": 0,
  "metadata": {
    "colab": {
      "provenance": [],
      "authorship_tag": "ABX9TyOAdKe5twIJVSPvON916nIL",
      "include_colab_link": true
    },
    "kernelspec": {
      "name": "python3",
      "display_name": "Python 3"
    },
    "language_info": {
      "name": "python"
    }
  },
  "cells": [
    {
      "cell_type": "markdown",
      "metadata": {
        "id": "view-in-github",
        "colab_type": "text"
      },
      "source": [
        "<a href=\"https://colab.research.google.com/github/jayahari10001/Ex-4-NN/blob/main/NN4.ipynb\" target=\"_parent\"><img src=\"https://colab.research.google.com/assets/colab-badge.svg\" alt=\"Open In Colab\"/></a>"
      ]
    },
    {
      "cell_type": "code",
      "execution_count": null,
      "metadata": {
        "colab": {
          "base_uri": "https://localhost:8080/"
        },
        "id": "jdEuYxAfcz_j",
        "outputId": "ec70201a-e278-4883-fe1e-6b8229f3dd68"
      },
      "outputs": [
        {
          "output_type": "stream",
          "name": "stdout",
          "text": [
            "[1 1 0 2 0 0 0 1 2 0 2 1 1 2 1 0 1 0 2 2 1 0 2 0 2 1 0 1 2 2]\n",
            "[[10  0  0]\n",
            " [ 0 10  0]\n",
            " [ 0  0 10]]\n",
            "              precision    recall  f1-score   support\n",
            "\n",
            "           0       1.00      1.00      1.00        10\n",
            "           1       1.00      1.00      1.00        10\n",
            "           2       1.00      1.00      1.00        10\n",
            "\n",
            "    accuracy                           1.00        30\n",
            "   macro avg       1.00      1.00      1.00        30\n",
            "weighted avg       1.00      1.00      1.00        30\n",
            "\n"
          ]
        }
      ],
      "source": [
        "import pandas as pd\n",
        "import sklearn\n",
        "from sklearn import preprocessing\n",
        "from sklearn.model_selection import train_test_split\n",
        "from sklearn.preprocessing import StandardScaler\n",
        "from sklearn.neural_network import MLPClassifier\n",
        "from sklearn.metrics import classification_report, confusion_matrix\n",
        "\n",
        "url = 'https://archive.ics.uci.edu/ml/machine-learning-databases/iris/iris.data'\n",
        "names = ['sepal-length', 'sepal-width', 'petal-length', 'petal-width', 'Class']\n",
        "irisdata = pd.read_csv(url, names=names)\n",
        "# Takes first 4 columns and assign them to variable \"X\"\n",
        "X = irisdata.iloc[:, 0:4]\n",
        "# Takes first 5th columns and assign them to variable \"Y\". Object dtype refers to strings.\n",
        "y = irisdata.select_dtypes(include=[object])\n",
        "X.head()\n",
        "y.head()\n",
        "# y actually contains all categories or classes:\n",
        "y.Class.unique()\n",
        "# Now transforming categorial into numerical values\n",
        "le = preprocessing.LabelEncoder()\n",
        "y = y.apply(le.fit_transform)\n",
        "y.head()\n",
        "# Now for train and test split (80% of  dataset into  training set and  other 20% into test data)\n",
        "X_train, X_test, y_train, y_test = train_test_split(X, y, test_size = 0.20)\n",
        "# Feature scaling\n",
        "scaler = StandardScaler()\n",
        "scaler.fit(X_train)\n",
        "X_train = scaler.transform(X_train)\n",
        "X_test = scaler.transform(X_test)\n",
        "mlp = MLPClassifier(hidden_layer_sizes=(10, 10, 10), max_iter=1000)\n",
        "mlp.fit(X_train, y_train.values.ravel())\n",
        "predictions = mlp.predict(X_test)\n",
        "print(predictions)\n",
        "# Last thing: evaluation of algorithm performance in classifying flowers\n",
        "print(confusion_matrix(y_test,predictions))\n",
        "print(classification_report(y_test,predictions))"
      ]
    },
    {
      "cell_type": "code",
      "source": [
        "import pandas as pd\n",
        "from sklearn.model_selection import train_test_split\n",
        "from sklearn.preprocessing import StandardScaler\n",
        "from sklearn.neural_network import MLPClassifier\n",
        "from sklearn.metrics import classification_report\n",
        "from sklearn.metrics import confusion_matrix\n",
        "url = 'https://archive.ics.uci.edu/ml/machine-learning-databases/iris/iris.data'\n",
        "arr = ['SepalLength', 'SepalWidth', 'PetalLength', 'PetalWidth', 'Species']\n",
        "df = pd.read_csv(url, names=arr)\n",
        "print(df.head())\n",
        "a = df.iloc[:, 0:4]\n",
        "b = df.select_dtypes(include=[object])\n",
        "b = df.iloc[:,4:5]\n",
        "training_a, testing_a, training_b, testing_b = train_test_split(a, b, test_size = 0.25)\n",
        "myscaler = StandardScaler()\n",
        "myscaler.fit(training_a)\n",
        "training_a = myscaler.transform(training_a)\n",
        "testing_a = myscaler.transform(testing_a)\n",
        "m1 = MLPClassifier(hidden_layer_sizes=(12, 13, 14), activation='relu', solver='adam', max_iter=2500)\n",
        "m1.fit(training_a, training_b.values.ravel())\n",
        "predicted_values = m1.predict(testing_a)\n",
        "print(confusion_matrix(testing_b,predicted_values))\n",
        "print(classification_report(testing_b,predicted_values))"
      ],
      "metadata": {
        "colab": {
          "base_uri": "https://localhost:8080/"
        },
        "id": "Afqq1Ok7dYK5",
        "outputId": "1a60d53f-9f53-4a29-c2cc-d95e2e48018f"
      },
      "execution_count": null,
      "outputs": [
        {
          "output_type": "stream",
          "name": "stdout",
          "text": [
            "   SepalLength  SepalWidth  PetalLength  PetalWidth      Species\n",
            "0          5.1         3.5          1.4         0.2  Iris-setosa\n",
            "1          4.9         3.0          1.4         0.2  Iris-setosa\n",
            "2          4.7         3.2          1.3         0.2  Iris-setosa\n",
            "3          4.6         3.1          1.5         0.2  Iris-setosa\n",
            "4          5.0         3.6          1.4         0.2  Iris-setosa\n",
            "[[15  1  0]\n",
            " [ 0 14  0]\n",
            " [ 0  0  8]]\n",
            "                 precision    recall  f1-score   support\n",
            "\n",
            "    Iris-setosa       1.00      0.94      0.97        16\n",
            "Iris-versicolor       0.93      1.00      0.97        14\n",
            " Iris-virginica       1.00      1.00      1.00         8\n",
            "\n",
            "       accuracy                           0.97        38\n",
            "      macro avg       0.98      0.98      0.98        38\n",
            "   weighted avg       0.98      0.97      0.97        38\n",
            "\n"
          ]
        }
      ]
    }
  ]
}